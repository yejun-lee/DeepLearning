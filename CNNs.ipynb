{
 "cells": [
  {
   "cell_type": "markdown",
   "metadata": {},
   "source": [
    "## 기본 합성곱 신경망 구현 (Vanilla CNN)"
   ]
  },
  {
   "cell_type": "code",
   "execution_count": 1,
   "metadata": {},
   "outputs": [],
   "source": [
    "import tensorflow as tf\n",
    "import numpy as np"
   ]
  },
  {
   "cell_type": "code",
   "execution_count": 2,
   "metadata": {},
   "outputs": [],
   "source": [
    "epochs = 10"
   ]
  },
  {
   "cell_type": "markdown",
   "metadata": {},
   "source": [
    "### Model"
   ]
  },
  {
   "cell_type": "code",
   "execution_count": 3,
   "metadata": {},
   "outputs": [],
   "source": [
    "class ConvNet(tf.keras.Model):\n",
    "    def __init__(self):\n",
    "        super(ConvNet, self).__init__()\n",
    "        conv2d = tf.keras.layers.Conv2D\n",
    "        maxpool = tf.keras.layers.MaxPool2D\n",
    "        flatten = tf.keras.layers.Flatten\n",
    "        dense = tf.keras.layers.Dense\n",
    "        \n",
    "        ## VGG-19 의 형태\n",
    "        self.sequence = []\n",
    "        self.sequence.append(conv2d(16, (3, 3), padding='same', activation='relu'))   # 28 x 28 x 16\n",
    "        self.sequence.append(conv2d(16, (3, 3), padding='same', activation='relu'))\n",
    "        self.sequence.append(maxpool((2, 2)))                                         # 14 x 14 x 16\n",
    "        \n",
    "        self.sequence.append(conv2d(32, (3, 3), padding='same', activation='relu'))   # 14 x 14 x 32\n",
    "        self.sequence.append(conv2d(32, (3, 3), padding='same', activation='relu'))\n",
    "        self.sequence.append(maxpool((2, 2)))                                         # 7 x 7 x 32\n",
    "        \n",
    "        self.sequence.append(conv2d(64, (3, 3), padding='same', activation='relu'))   # 7 x 7 x 64\n",
    "        self.sequence.append(conv2d(64, (3, 3), padding='same', activation='relu'))\n",
    "        self.sequence.append(flatten())                                                 # 7 x 7 x 64 = 3136\n",
    "        \n",
    "        self.sequence.append(dense(2048, activation='relu'))\n",
    "        self.sequence.append(dense(10, activation='softmax'))\n",
    "    \n",
    "    def call(self, x, training=False, mask=None):\n",
    "        for layer in self.sequence:\n",
    "            x = layer(x)\n",
    "        return x"
   ]
  },
  {
   "cell_type": "markdown",
   "metadata": {},
   "source": [
    "### 학습, 테스트 루프"
   ]
  },
  {
   "cell_type": "code",
   "execution_count": 4,
   "metadata": {},
   "outputs": [],
   "source": [
    "@tf.function\n",
    "def train_step(model, inputs, labels, loss_object, optimizer, train_loss, train_accuracy):\n",
    "    with tf.GradientTape() as tape:\n",
    "        predictions = model(inputs)\n",
    "        loss = loss_object(labels, predictions)\n",
    "    gradients = tape.gradient(loss, model.trainable_variables)   # loss : scalar 를 trainable_variable로 미분해준 값(벡터)\n",
    "    \n",
    "    optimizer.apply_gradients(zip(gradients, model.trainable_variables))   # gradients와 그에 해당하는 t_v를 같이 넣어 학습\n",
    "    train_loss(loss)   # 손실들을 종합\n",
    "    train_accuracy(labels, predictions)   # 평가지표로 계산\n",
    "    \n",
    "@tf.function\n",
    "def test_step(model, inputs, labels, loss_object, test_loss, test_accuracy):\n",
    "    predictions = model(inputs)\n",
    "    t_loss = loss_object(labels, predictions)\n",
    "    \n",
    "    test_loss(t_loss)   # 손실들을 종합\n",
    "    test_accuracy(labels, predictions)   # 평가지표로 계산"
   ]
  },
  {
   "cell_type": "markdown",
   "metadata": {},
   "source": [
    "### Dataset [mnist]"
   ]
  },
  {
   "cell_type": "code",
   "execution_count": 5,
   "metadata": {},
   "outputs": [],
   "source": [
    "mnist = tf.keras.datasets.mnist\n",
    "\n",
    "(train_x, train_y), (test_x, test_y) = mnist.load_data()\n",
    "\n",
    "train_x, test_x = train_x / 255., test_x / 255.\n",
    "train_x, test_x = train_x[..., tf.newaxis].astype(np.float32), test_x[..., tf.newaxis].astype(np.float32)\n",
    "\n",
    "train_ds = tf.data.Dataset.from_tensor_slices((train_x, train_y)).shuffle(10000).batch(32)\n",
    "test_ds = tf.data.Dataset.from_tensor_slices((test_x, test_y)).batch(32)"
   ]
  },
  {
   "cell_type": "markdown",
   "metadata": {},
   "source": [
    "### 학습 환경\n",
    "\n",
    "- 모델 생성, 손실함수, 최적화 알고리즘, 평가지표 정의"
   ]
  },
  {
   "cell_type": "code",
   "execution_count": 6,
   "metadata": {},
   "outputs": [],
   "source": [
    "model = ConvNet()\n",
    "\n",
    "loss_object = tf.keras.losses.SparseCategoricalCrossentropy()\n",
    "optimizer = tf.keras.optimizers.Adam()\n",
    "\n",
    "train_loss = tf.keras.metrics.Mean(name='train_loss')\n",
    "train_accuracy = tf.keras.metrics.SparseCategoricalAccuracy(name='train_accuracy')\n",
    "\n",
    "test_loss = tf.keras.metrics.Mean(name='test_loss')\n",
    "test_accuracy = tf.keras.metrics.SparseCategoricalAccuracy(name='test_accuracy')"
   ]
  },
  {
   "cell_type": "markdown",
   "metadata": {},
   "source": [
    "### 학습"
   ]
  },
  {
   "cell_type": "code",
   "execution_count": 7,
   "metadata": {},
   "outputs": [
    {
     "name": "stdout",
     "output_type": "stream",
     "text": [
      "Epoch 1, Loss : 0.1144, Accuracy : 96.3817, Test Loss : 0.0359, Test Accuracy : 98.9500\n",
      "Epoch 2, Loss : 0.0802, Accuracy : 97.4850, Test Loss : 0.0377, Test Accuracy : 98.9100\n",
      "Epoch 3, Loss : 0.0649, Accuracy : 97.9933, Test Loss : 0.0435, Test Accuracy : 98.8333\n",
      "Epoch 4, Loss : 0.0556, Accuracy : 98.2950, Test Loss : 0.0404, Test Accuracy : 98.8750\n",
      "Epoch 5, Loss : 0.0491, Accuracy : 98.4930, Test Loss : 0.0383, Test Accuracy : 98.9320\n",
      "Epoch 6, Loss : 0.0443, Accuracy : 98.6392, Test Loss : 0.0385, Test Accuracy : 98.9433\n",
      "Epoch 7, Loss : 0.0405, Accuracy : 98.7519, Test Loss : 0.0387, Test Accuracy : 98.9629\n",
      "Epoch 8, Loss : 0.0373, Accuracy : 98.8521, Test Loss : 0.0386, Test Accuracy : 98.9700\n",
      "Epoch 9, Loss : 0.0351, Accuracy : 98.9217, Test Loss : 0.0386, Test Accuracy : 98.9633\n",
      "Epoch 10, Loss : 0.0331, Accuracy : 98.9853, Test Loss : 0.0391, Test Accuracy : 98.9690\n"
     ]
    }
   ],
   "source": [
    "for epoch in range(epochs):\n",
    "    for images, labels in train_ds:\n",
    "        train_step(model, images, labels, loss_object, optimizer, train_loss, train_accuracy)\n",
    "        \n",
    "    for test_images, test_labels in test_ds:\n",
    "        test_step(model, test_images, test_labels, loss_object, test_loss, test_accuracy)\n",
    "        \n",
    "    template = 'Epoch {0:<2}, Loss : {1:.4f}, Accuracy : {2:.4f}, Test Loss : {3:.4f}, Test Accuracy : {4:.4f}'\n",
    "    print(template.format(epoch + 1, \n",
    "                         train_loss.result(), \n",
    "                         train_accuracy.result() * 100, \n",
    "                         test_loss.result(), \n",
    "                         test_accuracy.result() * 100))"
   ]
  },
  {
   "cell_type": "markdown",
   "metadata": {},
   "source": [
    "---\n",
    "\n",
    "---"
   ]
  },
  {
   "cell_type": "markdown",
   "metadata": {},
   "source": [
    "## Residual Network (ResNet) 구현\n",
    "\n",
    "ResNet <- Residual Layer <- Residual Unit"
   ]
  },
  {
   "cell_type": "code",
   "execution_count": 1,
   "metadata": {},
   "outputs": [],
   "source": [
    "import tensorflow as tf\n",
    "import numpy as np"
   ]
  },
  {
   "cell_type": "code",
   "execution_count": 2,
   "metadata": {},
   "outputs": [],
   "source": [
    "epochs = 10"
   ]
  },
  {
   "cell_type": "markdown",
   "metadata": {},
   "source": [
    "### Residual Unit\n",
    "\n",
    "<img src='https://img1.daumcdn.net/thumb/R1280x0/?scode=mtistory2&fname=https%3A%2F%2Fblog.kakaocdn.net%2Fdn%2FbzW8VQ%2FbtqF63hMf2h%2FXZ6zUpZ6Bu2veeMJdkcvL0%2Fimg.png' width=300>"
   ]
  },
  {
   "cell_type": "code",
   "execution_count": 3,
   "metadata": {},
   "outputs": [],
   "source": [
    "class ResidualUnit(tf.keras.Model):\n",
    "    def __init__(self, filter_in, filter_out, kernel_size):\n",
    "        super(ResidualUnit, self).__init__()\n",
    "        ## Preactivation\n",
    "        self.bn1 = tf.keras.layers.BatchNormalization()\n",
    "        self.conv1 = tf.keras.layers.Conv2D(filter_out, kernel_size, padding='same')\n",
    "        \n",
    "        self.bn2 = tf.keras.layers.BatchNormalization()\n",
    "        self.conv2 = tf.keras.layers.Conv2D(filter_out, kernel_size, padding='same')\n",
    "        \n",
    "        ## bn - relu - conv 를 거친 값과 입력을 더해주는 skip connection 에서 input과 output의 채널이 같아야 더해지기 때문에 추가해주는 부분.\n",
    "        if filter_in == filter_out:\n",
    "            self.identity = lambda x: x\n",
    "        else:\n",
    "            self.identity = tf.keras.layers.Conv2D(filter_out, (1, 1), padding='same')\n",
    "    \n",
    "    def call(self, x, training=False, mask=None):\n",
    "        h = self.bn1(x, training=training)   # batch normalization은 training과 test일때 달라야하기 때문에\n",
    "        h = tf.nn.relu(h)\n",
    "        h = self.conv1(h)\n",
    "        \n",
    "        h = self.bn2(h, training=training)\n",
    "        h = tf.nn.relu(h)\n",
    "        h = self.conv2(h)\n",
    "        \n",
    "        return self.identity(x) + h"
   ]
  },
  {
   "cell_type": "markdown",
   "metadata": {},
   "source": [
    "### Residual Layer"
   ]
  },
  {
   "cell_type": "code",
   "execution_count": 10,
   "metadata": {},
   "outputs": [],
   "source": [
    "class ResnetLayer(tf.keras.Model):\n",
    "    def __init__(self, filter_in, filters, kernel_size):\n",
    "        super(ResnetLayer, self).__init__()\n",
    "        self.sequence = []\n",
    "        for f_in, f_out in zip([filter_in] + list(filters), filters):\n",
    "            self.sequence.append(ResidualUnit(f_in, f_out, kernel_size))\n",
    "    \n",
    "    def call(self, x, training=False, mask=None):\n",
    "        for unit in self.sequence:\n",
    "            x = unit(x, training=training)\n",
    "        return x"
   ]
  },
  {
   "cell_type": "markdown",
   "metadata": {},
   "source": [
    "### ResNet"
   ]
  },
  {
   "cell_type": "code",
   "execution_count": 11,
   "metadata": {},
   "outputs": [],
   "source": [
    "class ResNet(tf.keras.Model):\n",
    "    def __init__(self):\n",
    "        super(ResNet, self).__init__()\n",
    "        # 처음에 feature를 하나 뽑아놔야 더 효과적이다.\n",
    "        self.conv1 = tf.keras.layers.Conv2D(8, (3, 3), padding='same', activation='relu')   # 28 x 28 x 8\n",
    "        \n",
    "        self.res1 = ResnetLayer(8, (16, 16), (3, 3))                                        # 28 x 28 x 16\n",
    "        self.pool1 = tf.keras.layers.MaxPool2D((2, 2))                                      # 14 x 14 x 16\n",
    "        \n",
    "        self.res2 = ResnetLayer(16, (32, 32), (3, 3))                                        # 14 x 14 x 32\n",
    "        self.pool2 = tf.keras.layers.MaxPool2D((2, 2))                                      # 7 x 7 x 32\n",
    "        \n",
    "        self.res3 = ResnetLayer(64, (32, 32), (3, 3))                                        # 7 x 7 x 64\n",
    "        \n",
    "        self.flatten = tf.keras.layers.Flatten()\n",
    "        self.dense1 = tf.keras.layers.Dense(128, activation='relu')\n",
    "        self.dense2 = tf.keras.layers.Dense(10, activation='softmax')\n",
    "        \n",
    "    def call(self, x, training=False, mask=None):\n",
    "        x = self.conv1(x)\n",
    "        \n",
    "        x = self.res1(x, training=training)\n",
    "        x = self.pool1(x)\n",
    "        x = self.res2(x, training=training)\n",
    "        x = self.pool2(x)\n",
    "        x = self.res3(x, training=training)\n",
    "        \n",
    "        x = self.flatten(x)\n",
    "        x = self.dense1(x)\n",
    "        \n",
    "        return self.dense2(x)"
   ]
  },
  {
   "cell_type": "markdown",
   "metadata": {},
   "source": [
    "### Dataset [mnist]"
   ]
  },
  {
   "cell_type": "code",
   "execution_count": 12,
   "metadata": {},
   "outputs": [],
   "source": [
    "mnist = tf.keras.datasets.mnist\n",
    "\n",
    "(train_x, train_y), (test_x, test_y) = mnist.load_data()\n",
    "\n",
    "train_x, test_x = train_x / 255., test_x / 255.\n",
    "train_x, test_x = train_x[..., tf.newaxis].astype(np.float32), test_x[..., tf.newaxis].astype(np.float32)\n",
    "\n",
    "train_ds = tf.data.Dataset.from_tensor_slices((train_x, train_y)).shuffle(10000).batch(32)\n",
    "test_ds = tf.data.Dataset.from_tensor_slices((test_x, test_y)).batch(32)"
   ]
  },
  {
   "cell_type": "markdown",
   "metadata": {},
   "source": [
    "### 학습 환경\n",
    "\n",
    "- 모델 생성, 손실함수, 최적화 알고리즘, 평가지표 정의"
   ]
  },
  {
   "cell_type": "code",
   "execution_count": 13,
   "metadata": {},
   "outputs": [],
   "source": [
    "model = ResNet()\n",
    "\n",
    "loss_object = tf.keras.losses.SparseCategoricalCrossentropy()\n",
    "optimizer = tf.keras.optimizers.Adam()\n",
    "\n",
    "train_loss = tf.keras.metrics.Mean(name='train_loss')\n",
    "train_accuracy = tf.keras.metrics.SparseCategoricalAccuracy(name='train_accuracy')\n",
    "\n",
    "test_loss = tf.keras.metrics.Mean(name='test_loss')\n",
    "test_accuracy = tf.keras.metrics.SparseCategoricalAccuracy(name='test_accuracy')"
   ]
  },
  {
   "cell_type": "markdown",
   "metadata": {},
   "source": [
    "### 학습, 테스트 루프"
   ]
  },
  {
   "cell_type": "code",
   "execution_count": 14,
   "metadata": {},
   "outputs": [],
   "source": [
    "@tf.function\n",
    "def train_step(model, inputs, labels, loss_object, optimizer, train_loss, train_accuracy):\n",
    "    with tf.GradientTape() as tape:\n",
    "        predictions = model(inputs, training=True)\n",
    "        loss = loss_object(labels, predictions)\n",
    "    gradients = tape.gradient(loss, model.trainable_variables)   # loss : scalar 를 trainable_variable로 미분해준 값(벡터)\n",
    "    \n",
    "    optimizer.apply_gradients(zip(gradients, model.trainable_variables))   # gradients와 그에 해당하는 t_v를 같이 넣어 학습\n",
    "    train_loss(loss)   # 손실들을 종합\n",
    "    train_accuracy(labels, predictions)   # 평가지표로 계산\n",
    "    \n",
    "@tf.function\n",
    "def test_step(model, inputs, labels, loss_object, test_loss, test_accuracy):\n",
    "    predictions = model(inputs, training=False)\n",
    "    t_loss = loss_object(labels, predictions)\n",
    "    \n",
    "    test_loss(t_loss)   # 손실들을 종합\n",
    "    test_accuracy(labels, predictions)   # 평가지표로 계산"
   ]
  },
  {
   "cell_type": "markdown",
   "metadata": {},
   "source": [
    "### 학습"
   ]
  },
  {
   "cell_type": "code",
   "execution_count": 15,
   "metadata": {},
   "outputs": [
    {
     "name": "stdout",
     "output_type": "stream",
     "text": [
      "Epoch 1, Loss : 0.1230, Accuracy : 96.4917, Test Loss : 0.1387, Test Accuracy : 95.8800\n",
      "Epoch 2, Loss : 0.0912, Accuracy : 97.4325, Test Loss : 0.0980, Test Accuracy : 97.1100\n",
      "Epoch 3, Loss : 0.0756, Accuracy : 97.8650, Test Loss : 0.0848, Test Accuracy : 97.5533\n",
      "Epoch 4, Loss : 0.0659, Accuracy : 98.1363, Test Loss : 0.0884, Test Accuracy : 97.5875\n",
      "Epoch 5, Loss : 0.0590, Accuracy : 98.3157, Test Loss : 0.0788, Test Accuracy : 97.8400\n",
      "Epoch 6, Loss : 0.0535, Accuracy : 98.4703, Test Loss : 0.0768, Test Accuracy : 97.8850\n",
      "Epoch 7, Loss : 0.0494, Accuracy : 98.5871, Test Loss : 0.0707, Test Accuracy : 98.0786\n",
      "Epoch 8, Loss : 0.0458, Accuracy : 98.6896, Test Loss : 0.0660, Test Accuracy : 98.1900\n",
      "Epoch 9, Loss : 0.0427, Accuracy : 98.7781, Test Loss : 0.0632, Test Accuracy : 98.2733\n",
      "Epoch 10, Loss : 0.0402, Accuracy : 98.8482, Test Loss : 0.0594, Test Accuracy : 98.3800\n"
     ]
    }
   ],
   "source": [
    "for epoch in range(epochs):\n",
    "    for images, labels in train_ds:\n",
    "        train_step(model, images, labels, loss_object, optimizer, train_loss, train_accuracy)\n",
    "        \n",
    "    for test_images, test_labels in test_ds:\n",
    "        test_step(model, test_images, test_labels, loss_object, test_loss, test_accuracy)\n",
    "        \n",
    "    template = 'Epoch {0:<2}, Loss : {1:.4f}, Accuracy : {2:.4f}, Test Loss : {3:.4f}, Test Accuracy : {4:.4f}'\n",
    "    print(template.format(epoch + 1, \n",
    "                         train_loss.result(), \n",
    "                         train_accuracy.result() * 100, \n",
    "                         test_loss.result(), \n",
    "                         test_accuracy.result() * 100))"
   ]
  },
  {
   "cell_type": "markdown",
   "metadata": {},
   "source": [
    "---\n",
    "---"
   ]
  },
  {
   "cell_type": "markdown",
   "metadata": {},
   "source": [
    "## DenseNet 구현"
   ]
  },
  {
   "cell_type": "code",
   "execution_count": 18,
   "metadata": {},
   "outputs": [],
   "source": [
    "import tensorflow as tf\n",
    "import numpy as np"
   ]
  },
  {
   "cell_type": "code",
   "execution_count": 19,
   "metadata": {},
   "outputs": [],
   "source": [
    "epochs = 10"
   ]
  },
  {
   "cell_type": "markdown",
   "metadata": {},
   "source": [
    "### DenseUnit \n",
    "\n",
    "<img src='https://hoya012.github.io/assets/img/densenet/1_comment.png' width=500>"
   ]
  },
  {
   "cell_type": "code",
   "execution_count": 20,
   "metadata": {},
   "outputs": [],
   "source": [
    "class DenseUnit(tf.keras.Model):\n",
    "    def __init__(self, filter_output, kernel_size):\n",
    "        super(DenseUnit, self).__init__()\n",
    "        self.bn = tf.keras.layers.BatchNormalization()\n",
    "        self.conv = tf.keras.layers.Conv2D(filter_output, kernel_size, padding='same')\n",
    "        self.concat = tf.keras.layers.Concatenate()\n",
    "    \n",
    "    def call(self, x, training=False, mask=None):     # x : (Batch, H, W, Ch_in)\n",
    "        h = self.bn(x, training=training)\n",
    "        h = tf.nn.relu(h)\n",
    "        h = self.conv(h)                              # h : (Batch, H, W, filter_output)\n",
    "        return self.concat([x, h])                    #     (Batch, H, W, (Ch_in + filter_output))"
   ]
  },
  {
   "cell_type": "markdown",
   "metadata": {},
   "source": [
    "### DenseLayer"
   ]
  },
  {
   "cell_type": "code",
   "execution_count": 23,
   "metadata": {},
   "outputs": [],
   "source": [
    "class DenseLayer(tf.keras.Model):\n",
    "    def __init__(self, num_unit, growth_rate, kernel_size):\n",
    "        super(DenseLayer, self).__init__()\n",
    "        self.sequence = []\n",
    "        for idx in range(num_unit):\n",
    "            self.sequence.append(DenseUnit(growth_rate, kernel_size))\n",
    "    \n",
    "    def call(self, x, training=False, mask=None):\n",
    "        for unit in self.sequence:\n",
    "            x = unit(x, training=training)\n",
    "        return x"
   ]
  },
  {
   "cell_type": "markdown",
   "metadata": {},
   "source": [
    "### Transition Layer"
   ]
  },
  {
   "cell_type": "code",
   "execution_count": 24,
   "metadata": {},
   "outputs": [],
   "source": [
    "class TransitionLayer(tf.keras.Model):\n",
    "    def __init__(self, filters, kernel_size):\n",
    "        super(TransitionLayer, self).__init__()\n",
    "        self.conv = tf.keras.layers.Conv2D(filters, kernel_size, padding='same')\n",
    "        self.pool = tf.keras.layers.MaxPool2D()\n",
    "        \n",
    "    def call(self, x, training=False, mask=None):\n",
    "        x = self.conv(x)\n",
    "        return self.pool(x)"
   ]
  },
  {
   "cell_type": "markdown",
   "metadata": {},
   "source": [
    "### DenseNet"
   ]
  },
  {
   "cell_type": "code",
   "execution_count": 25,
   "metadata": {},
   "outputs": [],
   "source": [
    "class DenseNet(tf.keras.Model):\n",
    "    def __init__(self):\n",
    "        super(DenseNet, self).__init__()\n",
    "        self.conv1 = tf.keras.layers.Conv2D(8, (3, 3), padding='same', activation='relu')    # 28 x 28 x 8\n",
    "        \n",
    "        self.dl1 = DenseLayer(2, 4, (3, 3))                                                  # 28 x 28 x (8 + 4x2)\n",
    "        self.tf1 = TransitionLayer(16, (3, 3))                                               # 14 x 14 x 16\n",
    "        \n",
    "        self.dl2 = DenseLayer(2, 8, (3, 3))                                                  # 14 x 14 x (16 + 8x2)\n",
    "        self.tf2 = TransitionLayer(32, (3, 3))                                               # 7 x 7 x 32\n",
    "        \n",
    "        self.dl3 = DenseLayer(2, 16, (3, 3))                                                  # 7 x 7 x (32 + 16x2)\n",
    "        \n",
    "        self.flatten = tf.keras.layers.Flatten()\n",
    "        self.dense1 = tf.keras.layers.Dense(128, activation='relu')\n",
    "        self.dense2 = tf.keras.layers.Dense(10, activation='softmax')\n",
    "        \n",
    "    def call(self, x, training=False, mask=None):\n",
    "        h = self.conv1(x)\n",
    "        \n",
    "        h = self.dl1(h, training=training)\n",
    "        h = self.tr1(h)\n",
    "        \n",
    "        h = self.dl2(h, training=training)\n",
    "        h = self.tr2(h)\n",
    "        \n",
    "        h = self.dl3(h, training=training)\n",
    "        \n",
    "        h = self.flatten(h)\n",
    "        h = self.dense1(h)\n",
    "        return self.dense2(h)"
   ]
  },
  {
   "cell_type": "markdown",
   "metadata": {},
   "source": [
    "### Dataset [mnist]"
   ]
  },
  {
   "cell_type": "code",
   "execution_count": 26,
   "metadata": {},
   "outputs": [],
   "source": [
    "mnist = tf.keras.datasets.mnist\n",
    "\n",
    "(train_x, train_y), (test_x, test_y) = mnist.load_data()\n",
    "\n",
    "train_x, test_x = train_x / 255., test_x / 255.\n",
    "train_x, test_x = train_x[..., tf.newaxis].astype(np.float32), test_x[..., tf.newaxis].astype(np.float32)\n",
    "\n",
    "train_ds = tf.data.Dataset.from_tensor_slices((train_x, train_y)).shuffle(10000).batch(32)\n",
    "test_ds = tf.data.Dataset.from_tensor_slices((test_x, test_y)).batch(32)"
   ]
  },
  {
   "cell_type": "markdown",
   "metadata": {},
   "source": [
    "### 학습 환경\n",
    "\n",
    "- 모델 생성, 손실함수, 최적화 알고리즘, 평가지표 정의"
   ]
  },
  {
   "cell_type": "code",
   "execution_count": 27,
   "metadata": {},
   "outputs": [],
   "source": [
    "model = ResNet()\n",
    "\n",
    "loss_object = tf.keras.losses.SparseCategoricalCrossentropy()\n",
    "optimizer = tf.keras.optimizers.Adam()\n",
    "\n",
    "train_loss = tf.keras.metrics.Mean(name='train_loss')\n",
    "train_accuracy = tf.keras.metrics.SparseCategoricalAccuracy(name='train_accuracy')\n",
    "\n",
    "test_loss = tf.keras.metrics.Mean(name='test_loss')\n",
    "test_accuracy = tf.keras.metrics.SparseCategoricalAccuracy(name='test_accuracy')"
   ]
  },
  {
   "cell_type": "markdown",
   "metadata": {},
   "source": [
    "### 학습, 테스트 루프"
   ]
  },
  {
   "cell_type": "code",
   "execution_count": 28,
   "metadata": {},
   "outputs": [],
   "source": [
    "@tf.function\n",
    "def train_step(model, inputs, labels, loss_object, optimizer, train_loss, train_accuracy):\n",
    "    with tf.GradientTape() as tape:\n",
    "        predictions = model(inputs, training=True)\n",
    "        loss = loss_object(labels, predictions)\n",
    "    gradients = tape.gradient(loss, model.trainable_variables)   # loss : scalar 를 trainable_variable로 미분해준 값(벡터)\n",
    "    \n",
    "    optimizer.apply_gradients(zip(gradients, model.trainable_variables))   # gradients와 그에 해당하는 t_v를 같이 넣어 학습\n",
    "    train_loss(loss)   # 손실들을 종합\n",
    "    train_accuracy(labels, predictions)   # 평가지표로 계산\n",
    "    \n",
    "@tf.function\n",
    "def test_step(model, inputs, labels, loss_object, test_loss, test_accuracy):\n",
    "    predictions = model(inputs, training=False)\n",
    "    t_loss = loss_object(labels, predictions)\n",
    "    \n",
    "    test_loss(t_loss)   # 손실들을 종합\n",
    "    test_accuracy(labels, predictions)   # 평가지표로 계산"
   ]
  },
  {
   "cell_type": "markdown",
   "metadata": {},
   "source": [
    "### 학습"
   ]
  },
  {
   "cell_type": "code",
   "execution_count": 29,
   "metadata": {},
   "outputs": [
    {
     "name": "stdout",
     "output_type": "stream",
     "text": [
      "Epoch 1 , Loss : 0.1300, Accuracy : 96.2300, Test Loss : 0.0564, Test Accuracy : 98.3400\n",
      "Epoch 2 , Loss : 0.0950, Accuracy : 97.2775, Test Loss : 0.0493, Test Accuracy : 98.6050\n",
      "Epoch 3 , Loss : 0.0787, Accuracy : 97.7339, Test Loss : 0.0486, Test Accuracy : 98.5933\n",
      "Epoch 4 , Loss : 0.0680, Accuracy : 98.0404, Test Loss : 0.0461, Test Accuracy : 98.6600\n",
      "Epoch 5 , Loss : 0.0609, Accuracy : 98.2387, Test Loss : 0.0455, Test Accuracy : 98.6640\n",
      "Epoch 6 , Loss : 0.0556, Accuracy : 98.3839, Test Loss : 0.0460, Test Accuracy : 98.6533\n",
      "Epoch 7 , Loss : 0.0508, Accuracy : 98.5233, Test Loss : 0.0438, Test Accuracy : 98.7200\n",
      "Epoch 8 , Loss : 0.0472, Accuracy : 98.6267, Test Loss : 0.0433, Test Accuracy : 98.7550\n",
      "Epoch 9 , Loss : 0.0442, Accuracy : 98.7137, Test Loss : 0.0412, Test Accuracy : 98.8178\n",
      "Epoch 10, Loss : 0.0415, Accuracy : 98.7953, Test Loss : 0.0425, Test Accuracy : 98.7990\n"
     ]
    }
   ],
   "source": [
    "for epoch in range(epochs):\n",
    "    for images, labels in train_ds:\n",
    "        train_step(model, images, labels, loss_object, optimizer, train_loss, train_accuracy)\n",
    "        \n",
    "    for test_images, test_labels in test_ds:\n",
    "        test_step(model, test_images, test_labels, loss_object, test_loss, test_accuracy)\n",
    "        \n",
    "    template = 'Epoch {0:<2}, Loss : {1:.4f}, Accuracy : {2:.4f}, Test Loss : {3:.4f}, Test Accuracy : {4:.4f}'\n",
    "    print(template.format(epoch + 1, \n",
    "                         train_loss.result(), \n",
    "                         train_accuracy.result() * 100, \n",
    "                         test_loss.result(), \n",
    "                         test_accuracy.result() * 100))"
   ]
  },
  {
   "cell_type": "code",
   "execution_count": null,
   "metadata": {},
   "outputs": [],
   "source": []
  },
  {
   "cell_type": "code",
   "execution_count": null,
   "metadata": {},
   "outputs": [],
   "source": []
  },
  {
   "cell_type": "code",
   "execution_count": null,
   "metadata": {},
   "outputs": [],
   "source": []
  }
 ],
 "metadata": {
  "kernelspec": {
   "display_name": "Python 3",
   "language": "python",
   "name": "python3"
  },
  "language_info": {
   "codemirror_mode": {
    "name": "ipython",
    "version": 3
   },
   "file_extension": ".py",
   "mimetype": "text/x-python",
   "name": "python",
   "nbconvert_exporter": "python",
   "pygments_lexer": "ipython3",
   "version": "3.8.5"
  }
 },
 "nbformat": 4,
 "nbformat_minor": 4
}
